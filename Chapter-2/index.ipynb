{
 "cells": [
  {
   "cell_type": "code",
   "execution_count": null,
   "id": "f0bf5035",
   "metadata": {},
   "outputs": [],
   "source": [
    "# Chpater 2 Main"
   ]
  },
  {
   "cell_type": "code",
   "execution_count": null,
   "id": "cb6fe109",
   "metadata": {},
   "outputs": [],
   "source": []
  }
 ],
 "metadata": {
  "kernelspec": {
   "display_name": "Python 3",
   "language": "python",
   "name": "python3"
  },
  "language_info": {
   "name": "python",
   "version": "3.12.4"
  }
 },
 "nbformat": 4,
 "nbformat_minor": 5
}
