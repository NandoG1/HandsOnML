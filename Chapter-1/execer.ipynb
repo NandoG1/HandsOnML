{
 "cells": [
  {
   "cell_type": "code",
   "execution_count": null,
   "metadata": {},
   "outputs": [],
   "source": [
    "'''\n",
    "1. Machine Learning adalah suatu subset dalam AI yang dimana kita membuat suatu sistem yang dapat memprediksi \n",
    "berdasarkan pattern dengan data sebagai sumber pembelajarannya.\n",
    "2. Buat robot, deteksi hal dengan regersi, recomendation system di berbagai apps, sistem otomatis\n",
    "3. Label dalam training set adalah output (y) yang diharapkan berdasarkan feature/instance (X) yang ada di dataset\n",
    "4. Regression, Classification\n",
    "5. Clustering, Anomali, Dimensional Reduction, Visualization\n",
    "6. Reinforcement Learning\n",
    "7. Unsupervised Learning\n",
    "8. Supervised Learning\n",
    "9. Online learning system adalah suatu metode training dalam ML dimana kita membagi datset menjadi berbagai batch (mini-batch)\n",
    "dan melakukan training secara bertahap.\n",
    "10. -\n",
    "11. Instance based learning\n",
    "12. Model parameter adalah suatu nilai yang dihasilkan dari model saat sudah menjalani proses training (misal dalam regresi ada nilai\n",
    "a dan b nya). Model hyperparamter adalah suatu nilai yang kita tentukan sebelum kita melakukan training (misal nentuin epoch, learning rate\n",
    "dalam gradient decent)\n",
    "13. - \n",
    "14. Data sangat sedikit, terlalu banyak data yang inrelevant, overfitting data, underfitting data\n",
    "15. Model tersebut kemungkinan mengalami overfitting. Cara mengatasinya daapt dengan menambah data, kurangi kompleksitas model, bersiin data.\n",
    "16. Test set adalah bagian dari dataset yang biasanya berisi 10-20% dari total dataeset yang dimana dalam test set ini akan digunakan \n",
    "sebagai evaluation dari model kita.\n",
    "17. Validation set digunakan sebagai penentuan dari berbagai model yang terbaik / juga bisa digunakan sebagai menentukan model hyperparamter.\n",
    "18. -\n",
    "19. Maka kemungkinan test set kita akan menjadi overfitting dan dapat mempengrahui generelzation error\n",
    "'''\n",
    "\n"
   ]
  }
 ],
 "metadata": {
  "kernelspec": {
   "display_name": "Python 3",
   "language": "python",
   "name": "python3"
  },
  "language_info": {
   "name": "python",
   "version": "3.12.4"
  }
 },
 "nbformat": 4,
 "nbformat_minor": 2
}
