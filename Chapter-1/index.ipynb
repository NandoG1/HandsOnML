{
 "cells": [
  {
   "cell_type": "code",
   "execution_count": 1,
   "metadata": {},
   "outputs": [],
   "source": [
    "import matplotlib.pyplot as plt\n",
    "import numpy as np\n",
    "import pandas as pd\n",
    "from sklearn.linear_model import LinearRegression\n",
    "import keras \n",
    "\n",
    "data_root = \"https://github.com/ageron/data/raw/main/\"\n",
    "lifesat = pd.read_csv(data_root + \"lifesat/lifesat.csv\")"
   ]
  },
  {
   "cell_type": "code",
   "execution_count": 3,
   "metadata": {},
   "outputs": [
    {
     "name": "stdout",
     "output_type": "stream",
     "text": [
      "y\n"
     ]
    }
   ],
   "source": [
    "import sys\n",
    "\n",
    "if sys.version_info >= (3, 10):\n",
    "    print(\"y\")"
   ]
  },
  {
   "cell_type": "code",
   "execution_count": 3,
   "metadata": {},
   "outputs": [
    {
     "name": "stdout",
     "output_type": "stream",
     "text": [
      "           Country  GDP per capita (USD)  Life satisfaction\n",
      "0           Russia          26456.387938                5.8\n",
      "1           Greece          27287.083401                5.4\n",
      "2           Turkey          28384.987785                5.5\n",
      "3           Latvia          29932.493910                5.9\n",
      "4          Hungary          31007.768407                5.6\n",
      "5         Portugal          32181.154537                5.4\n",
      "6           Poland          32238.157259                6.1\n",
      "7          Estonia          35638.421351                5.7\n",
      "8            Spain          36215.447591                6.3\n",
      "9         Slovenia          36547.738956                5.9\n",
      "10       Lithuania          36732.034744                5.9\n",
      "11          Israel          38341.307570                7.2\n",
      "12           Italy          38992.148381                6.0\n",
      "13  United Kingdom          41627.129269                6.8\n",
      "14          France          42025.617373                6.5\n",
      "15     New Zealand          42404.393738                7.3\n",
      "16          Canada          45856.625626                7.4\n",
      "17         Finland          47260.800458                7.6\n",
      "18         Belgium          48210.033111                6.9\n",
      "19       Australia          48697.837028                7.3\n",
      "20          Sweden          50683.323510                7.3\n",
      "21         Germany          50922.358023                7.0\n",
      "22         Austria          51935.603862                7.1\n",
      "23         Iceland          52279.728851                7.5\n",
      "24     Netherlands          54209.563836                7.4\n",
      "25         Denmark          55938.212809                7.6\n",
      "26   United States          60235.728492                6.9\n"
     ]
    }
   ],
   "source": [
    "print(lifesat)"
   ]
  },
  {
   "cell_type": "code",
   "execution_count": 26,
   "metadata": {},
   "outputs": [],
   "source": [
    "x = lifesat[[\"GDP per capita (USD)\"]].values\n",
    "y = lifesat[[\"Life satisfaction\"]].values\n",
    "\n"
   ]
  },
  {
   "cell_type": "code",
   "execution_count": 25,
   "metadata": {},
   "outputs": [
    {
     "data": {
      "image/png": "[encoded data removed]",
      "text/plain": [
       "<Figure size 640x480 with 1 Axes>"
      ]
     },
     "metadata": {},
     "output_type": "display_data"
    }
   ],
   "source": [
    "lifesat.plot(x= \"GDP per capita (USD)\", y=\"Life satisfaction\", kind=\"scatter\", grid=True)\n",
    "plt.axis([25000, 62500, 4, 9])\n",
    "plt.show()"
   ]
  },
  {
   "cell_type": "code",
   "execution_count": 28,
   "metadata": {},
   "outputs": [
    {
     "name": "stdout",
     "output_type": "stream",
     "text": [
      "LinearRegression()\n"
     ]
    }
   ],
   "source": [
    "model = LinearRegression()\n",
    "\n",
    "model.fit(x,y)\n",
    "\n"
   ]
  },
  {
   "cell_type": "code",
   "execution_count": 35,
   "metadata": {},
   "outputs": [
    {
     "name": "stdout",
     "output_type": "stream",
     "text": [
      "[[1359.5289883]]\n"
     ]
    }
   ],
   "source": [
    "x_new = [[20000000]]\n",
    "print(model.predict(x_new))\n",
    "\n"
   ]
  }
 ],
 "metadata": {
  "kernelspec": {
   "display_name": "Python 3",
   "language": "python",
   "name": "python3"
  },
  "language_info": {
   "codemirror_mode": {
    "name": "ipython",
    "version": 3
   },
   "file_extension": ".py",
   "mimetype": "text/x-python",
   "name": "python",
   "nbconvert_exporter": "python",
   "pygments_lexer": "ipython3",
   "version": "3.12.4"
  }
 },
 "nbformat": 4,
 "nbformat_minor": 2
}
